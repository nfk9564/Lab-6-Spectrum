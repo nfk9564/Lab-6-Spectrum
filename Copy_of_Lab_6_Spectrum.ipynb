{
  "nbformat": 4,
  "nbformat_minor": 0,
  "metadata": {
    "colab": {
      "provenance": []
    },
    "kernelspec": {
      "name": "python3",
      "display_name": "Python 3"
    },
    "language_info": {
      "name": "python"
    }
  },
  "cells": [
    {
      "cell_type": "code",
      "execution_count": null,
      "metadata": {
        "id": "R4O-wjZ4QrS6"
      },
      "outputs": [],
      "source": []
    }
  ]
}